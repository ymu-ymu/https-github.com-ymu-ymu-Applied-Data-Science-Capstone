{
 "cells": [
  {
   "cell_type": "code",
   "execution_count": 1,
   "id": "8d7b5008",
   "metadata": {},
   "outputs": [
    {
     "name": "stdout",
     "output_type": "stream",
     "text": [
      "Dash is running on http://127.0.0.1:8050/\n",
      "\n",
      " * Serving Flask app '__main__' (lazy loading)\n",
      " * Environment: production\n",
      "\u001b[31m   WARNING: This is a development server. Do not use it in a production deployment.\u001b[0m\n",
      "\u001b[2m   Use a production WSGI server instead.\u001b[0m\n",
      " * Debug mode: off\n"
     ]
    },
    {
     "name": "stderr",
     "output_type": "stream",
     "text": [
      " * Running on http://127.0.0.1:8050/ (Press CTRL+C to quit)\n",
      "127.0.0.1 - - [01/Aug/2022 20:40:28] \"GET / HTTP/1.1\" 200 -\n",
      "127.0.0.1 - - [01/Aug/2022 20:40:28] \"GET /_favicon.ico?v=2.6.0 HTTP/1.1\" 200 -\n",
      "127.0.0.1 - - [01/Aug/2022 20:40:28] \"GET /_dash-layout HTTP/1.1\" 200 -\n",
      "127.0.0.1 - - [01/Aug/2022 20:40:28] \"GET /_dash-dependencies HTTP/1.1\" 200 -\n",
      "127.0.0.1 - - [01/Aug/2022 20:40:28] \"GET /_dash-component-suites/dash/dcc/async-dropdown.js HTTP/1.1\" 200 -\n",
      "127.0.0.1 - - [01/Aug/2022 20:40:28] \"GET /_dash-component-suites/dash/dcc/async-graph.js HTTP/1.1\" 200 -\n",
      "127.0.0.1 - - [01/Aug/2022 20:40:28] \"GET /_dash-component-suites/dash/dcc/async-plotlyjs.js HTTP/1.1\" 200 -\n",
      "127.0.0.1 - - [01/Aug/2022 20:40:28] \"GET /_dash-component-suites/dash/dcc/async-slider.js HTTP/1.1\" 200 -\n"
     ]
    },
    {
     "name": "stdout",
     "output_type": "stream",
     "text": [
      "Params: ALL [0, 9600]\n"
     ]
    },
    {
     "name": "stderr",
     "output_type": "stream",
     "text": [
      "127.0.0.1 - - [01/Aug/2022 20:40:32] \"POST /_dash-update-component HTTP/1.1\" 200 -\n",
      "127.0.0.1 - - [01/Aug/2022 20:40:32] \"POST /_dash-update-component HTTP/1.1\" 200 -\n",
      "127.0.0.1 - - [01/Aug/2022 20:40:34] \"POST /_dash-update-component HTTP/1.1\" 200 -\n",
      "127.0.0.1 - - [01/Aug/2022 20:40:34] \"POST /_dash-update-component HTTP/1.1\" 200 -\n"
     ]
    },
    {
     "name": "stdout",
     "output_type": "stream",
     "text": [
      "Params: CCAFS LC-40 [0, 9600]\n"
     ]
    },
    {
     "name": "stderr",
     "output_type": "stream",
     "text": [
      "127.0.0.1 - - [01/Aug/2022 20:40:36] \"POST /_dash-update-component HTTP/1.1\" 200 -\n",
      "127.0.0.1 - - [01/Aug/2022 20:40:36] \"POST /_dash-update-component HTTP/1.1\" 200 -\n"
     ]
    },
    {
     "name": "stdout",
     "output_type": "stream",
     "text": [
      "Params: KSC LC-39A [0, 9600]\n"
     ]
    },
    {
     "name": "stderr",
     "output_type": "stream",
     "text": [
      "127.0.0.1 - - [01/Aug/2022 20:40:45] \"GET / HTTP/1.1\" 200 -\n",
      "127.0.0.1 - - [01/Aug/2022 20:40:45] \"GET /_favicon.ico?v=2.6.0 HTTP/1.1\" 200 -\n",
      "127.0.0.1 - - [01/Aug/2022 20:40:45] \"GET /_dash-layout HTTP/1.1\" 200 -\n",
      "127.0.0.1 - - [01/Aug/2022 20:40:45] \"GET /_dash-dependencies HTTP/1.1\" 200 -\n",
      "127.0.0.1 - - [01/Aug/2022 20:40:45] \"GET /_dash-component-suites/dash/dcc/async-graph.js HTTP/1.1\" 200 -\n",
      "127.0.0.1 - - [01/Aug/2022 20:40:45] \"GET /_dash-component-suites/dash/dcc/async-dropdown.js HTTP/1.1\" 200 -\n",
      "127.0.0.1 - - [01/Aug/2022 20:40:45] \"GET /_dash-component-suites/dash/dcc/async-slider.js HTTP/1.1\" 200 -\n",
      "127.0.0.1 - - [01/Aug/2022 20:40:45] \"GET /_dash-component-suites/dash/dcc/async-plotlyjs.js HTTP/1.1\" 200 -\n",
      "127.0.0.1 - - [01/Aug/2022 20:40:45] \"POST /_dash-update-component HTTP/1.1\" 200 -\n",
      "127.0.0.1 - - [01/Aug/2022 20:40:45] \"POST /_dash-update-component HTTP/1.1\" 200 -\n"
     ]
    },
    {
     "name": "stdout",
     "output_type": "stream",
     "text": [
      "Params: ALL [0, 9600]\n"
     ]
    },
    {
     "name": "stderr",
     "output_type": "stream",
     "text": [
      "127.0.0.1 - - [02/Aug/2022 00:42:18] \"GET / HTTP/1.1\" 200 -\n",
      "127.0.0.1 - - [02/Aug/2022 00:42:18] \"GET /_dash-component-suites/dash/deps/polyfill@7.v2_6_0m1658197537.12.1.min.js HTTP/1.1\" 200 -\n",
      "127.0.0.1 - - [02/Aug/2022 00:42:18] \"GET /_dash-component-suites/dash/deps/react@16.v2_6_0m1658197537.14.0.min.js HTTP/1.1\" 200 -\n",
      "127.0.0.1 - - [02/Aug/2022 00:42:18] \"GET /_dash-component-suites/dash/deps/react-dom@16.v2_6_0m1658197537.14.0.min.js HTTP/1.1\" 200 -\n",
      "127.0.0.1 - - [02/Aug/2022 00:42:18] \"GET /_dash-component-suites/dash/deps/prop-types@15.v2_6_0m1658197537.8.1.min.js HTTP/1.1\" 200 -\n",
      "127.0.0.1 - - [02/Aug/2022 00:42:18] \"GET /_dash-component-suites/dash/dash-renderer/build/dash_renderer.v2_6_0m1658197537.min.js HTTP/1.1\" 200 -\n",
      "127.0.0.1 - - [02/Aug/2022 00:42:18] \"GET /_dash-component-suites/dash/dcc/dash_core_components.v2_6_0m1658197537.js HTTP/1.1\" 200 -\n",
      "127.0.0.1 - - [02/Aug/2022 00:42:18] \"GET /_dash-component-suites/dash/dcc/dash_core_components-shared.v2_6_0m1658197537.js HTTP/1.1\" 200 -\n",
      "127.0.0.1 - - [02/Aug/2022 00:42:18] \"GET /_dash-component-suites/dash/html/dash_html_components.v2_0_4m1658197537.min.js HTTP/1.1\" 200 -\n",
      "127.0.0.1 - - [02/Aug/2022 00:42:18] \"GET /_dash-component-suites/dash/dash_table/bundle.v5_1_4m1658197537.js HTTP/1.1\" 200 -\n",
      "127.0.0.1 - - [02/Aug/2022 00:42:19] \"GET /_favicon.ico?v=2.6.0 HTTP/1.1\" 200 -\n",
      "127.0.0.1 - - [02/Aug/2022 00:42:19] \"GET /_dash-layout HTTP/1.1\" 200 -\n",
      "127.0.0.1 - - [02/Aug/2022 00:42:19] \"GET /_dash-dependencies HTTP/1.1\" 200 -\n",
      "127.0.0.1 - - [02/Aug/2022 00:42:19] \"GET /_dash-component-suites/dash/dcc/async-dropdown.js HTTP/1.1\" 200 -\n",
      "127.0.0.1 - - [02/Aug/2022 00:42:19] \"GET /_dash-component-suites/dash/dcc/async-graph.js HTTP/1.1\" 200 -\n",
      "127.0.0.1 - - [02/Aug/2022 00:42:19] \"GET /_dash-component-suites/dash/dcc/async-slider.js HTTP/1.1\" 200 -\n",
      "127.0.0.1 - - [02/Aug/2022 00:42:19] \"GET /_dash-component-suites/dash/dcc/async-plotlyjs.js HTTP/1.1\" 200 -\n"
     ]
    },
    {
     "name": "stdout",
     "output_type": "stream",
     "text": [
      "Params: ALL [0, 9600]\n"
     ]
    },
    {
     "name": "stderr",
     "output_type": "stream",
     "text": [
      "127.0.0.1 - - [02/Aug/2022 00:42:19] \"POST /_dash-update-component HTTP/1.1\" 200 -\n",
      "127.0.0.1 - - [02/Aug/2022 00:42:19] \"POST /_dash-update-component HTTP/1.1\" 200 -\n",
      "127.0.0.1 - - [02/Aug/2022 00:42:23] \"POST /_dash-update-component HTTP/1.1\" 200 -\n",
      "127.0.0.1 - - [02/Aug/2022 00:42:23] \"POST /_dash-update-component HTTP/1.1\" 200 -\n"
     ]
    },
    {
     "name": "stdout",
     "output_type": "stream",
     "text": [
      "Params: CCAFS LC-40 [0, 9600]\n"
     ]
    },
    {
     "name": "stderr",
     "output_type": "stream",
     "text": [
      "127.0.0.1 - - [02/Aug/2022 00:42:25] \"POST /_dash-update-component HTTP/1.1\" 200 -\n",
      "127.0.0.1 - - [02/Aug/2022 00:42:25] \"POST /_dash-update-component HTTP/1.1\" 200 -\n"
     ]
    },
    {
     "name": "stdout",
     "output_type": "stream",
     "text": [
      "Params: VAFB SLC-4E [0, 9600]\n"
     ]
    }
   ],
   "source": [
    "# Import required libraries\n",
    "import pandas as pd\n",
    "import dash\n",
    "from dash import html\n",
    "from dash import dcc\n",
    "from dash.dependencies import Input, Output\n",
    "import plotly.express as px\n",
    "\n",
    "# Read the airline data into pandas dataframe\n",
    "spacex_df = pd.read_csv(\"spacex_launch_dash.csv\")\n",
    "max_payload = spacex_df['Payload Mass (kg)'].max()\n",
    "min_payload = spacex_df['Payload Mass (kg)'].min()\n",
    "\n",
    "#print(spacex_df['Launch Site'].unique())\n",
    "\n",
    "# Create a dash application\n",
    "app = dash.Dash(__name__)\n",
    "\n",
    "# Create an app layout\n",
    "app.layout = html.Div(children=[html.H1('SpaceX Launch Records Dashboard',\n",
    "                                        style={'textAlign': 'center', 'color': '#503D36',\n",
    "                                               'font-size': 40}),\n",
    "                                # TASK 1: Add a dropdown list to enable Launch Site selection\n",
    "                                # The default select value is for ALL sites\n",
    "                                dcc.Dropdown(id='site-dropdown',\n",
    "                                             options=[\n",
    "                                                    {'label': 'All Sites', 'value': 'ALL'},\n",
    "                                                    {'label': 'CCAFS LC-40', 'value': 'CCAFS LC-40'},\n",
    "                                                    {'label': 'VAFB SLC-4E', 'value': 'VAFB SLC-4E'},\n",
    "                                                    {'label': 'KSC LC-39A', 'value': 'KSC LC-39A'},\n",
    "                                                    {'label': 'CCAFS SLC-40', 'value': 'CCAFS SLC-40'}],\n",
    "                                             value='ALL',\n",
    "                                             placeholder=\"State\",\n",
    "                                             searchable=True\n",
    "                                            ),\n",
    "                                html.Br(),\n",
    "\n",
    "                                # TASK 2: Add a pie chart to show the total successful launches count for all sites\n",
    "                                # If a specific launch site was selected, show the Success vs. Failed counts for the site\n",
    "                                html.Div(dcc.Graph(id='success-pie-chart')),\n",
    "                                html.Br(),\n",
    "\n",
    "                                html.P(\"Payload range (Kg):\"),\n",
    "                                # TASK 3: Add a slider to select payload range\n",
    "                                dcc.RangeSlider(id='payload-slider',\n",
    "                                                min=0, max=10000, step=1000,\n",
    "                                                marks={0: '0', 100: '100'},\n",
    "                                                value=[min_payload, max_payload]),\n",
    "\n",
    "                                # TASK 4: Add a scatter chart to show the correlation between payload and launch success\n",
    "                                html.Div(dcc.Graph(id='success-payload-scatter-chart')),\n",
    "                                ])\n",
    "\n",
    "# TASK 2:\n",
    "# Add a callback function for `site-dropdown` as input, `success-pie-chart` as output\n",
    "# Function decorator to specify function input and output\n",
    "@app.callback(Output(component_id='success-pie-chart', component_property='figure'),\n",
    "              Input(component_id='site-dropdown', component_property='value'))\n",
    "def get_pie_chart(entered_site):    \n",
    "    if entered_site == 'ALL':\n",
    "        fig = px.pie(spacex_df, \n",
    "                     values='class', \n",
    "                     names='Launch Site', \n",
    "                     title='Total Success Launches By Site')        \n",
    "    else:\n",
    "        filtered_df = spacex_df[spacex_df['Launch Site'] == entered_site]\n",
    "        filtered_df = filtered_df.groupby('class').count().reset_index()        \n",
    "        fig = px.pie(filtered_df, \n",
    "                     values='Unnamed: 0', \n",
    "                     names='class', \n",
    "                     title='Total Launches for site {}'.format(entered_site))        \n",
    "        # return the outcomes piechart for a selected site\n",
    "    return fig\n",
    "        \n",
    "# TASK 4:\n",
    "# Add a callback function for `site-dropdown` and `payload-slider` as inputs, `success-payload-scatter-chart` as output\n",
    "@app.callback(Output(component_id='success-payload-scatter-chart', component_property='figure'),\n",
    "              Input(component_id='site-dropdown', component_property='value'), \n",
    "              Input(component_id=\"payload-slider\", component_property=\"value\"))\n",
    "def get_scatter_chart(entered_site, payload_range):\n",
    "    print('Params: {} {}'.format(entered_site, payload_range))\n",
    "    if entered_site == 'ALL':\n",
    "        filtered_df = spacex_df[(spacex_df['Payload Mass (kg)'] >= int(payload_range[0])) &\n",
    "                                (spacex_df['Payload Mass (kg)'] <= int(payload_range[1]))\n",
    "                               ]\n",
    "        fig = px.scatter(filtered_df, x='Payload Mass (kg)', y='class', color='Booster Version Category', title='All sites - payload mass between {:8,d}kg and {:8,d}kg'.format(int(payload_range[0]),int(payload_range[1])))\n",
    "    else:\n",
    "        filtered_df = spacex_df[(spacex_df['Launch Site'] == entered_site) & \n",
    "                                (spacex_df['Payload Mass (kg)'] >= int(payload_range[0])) &\n",
    "                                (spacex_df['Payload Mass (kg)'] <= int(payload_range[1]))\n",
    "                               ]\n",
    "        fig = px.scatter(filtered_df, x='Payload Mass (kg)', y='class', color='Booster Version Category', title='Site {} - payload mass between {:8,d}kg and {:8,d}kg'.format(entered_site,int(payload_range[0]),int(payload_range[1])))\n",
    "    \n",
    "    return fig\n",
    "\n",
    "# Run the app\n",
    "if __name__ == '__main__':\n",
    "    app.run_server()"
   ]
  },
  {
   "cell_type": "code",
   "execution_count": 3,
   "id": "d58defe1",
   "metadata": {},
   "outputs": [],
   "source": [
    "import pandas as pd\n",
    "df = pd.read_csv(\"https://cf-courses-data.s3.us.cloud-object-storage.appdomain.cloud/IBM-DS0321EN-SkillsNetwork/datasets/spacex_launch_dash.csv\")\n",
    "df.to_csv('spacex_launch_dash.csv')"
   ]
  }
 ],
 "metadata": {
  "kernelspec": {
   "display_name": "Python 3",
   "language": "python",
   "name": "python3"
  },
  "language_info": {
   "codemirror_mode": {
    "name": "ipython",
    "version": 3
   },
   "file_extension": ".py",
   "mimetype": "text/x-python",
   "name": "python",
   "nbconvert_exporter": "python",
   "pygments_lexer": "ipython3",
   "version": "3.6.4"
  }
 },
 "nbformat": 4,
 "nbformat_minor": 5
}
